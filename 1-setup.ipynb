{
 "cells": [
  {
   "cell_type": "code",
   "execution_count": 2,
   "metadata": {},
   "outputs": [
    {
     "name": "stdout",
     "output_type": "stream",
     "text": [
      "Requirement already satisfied: pip in c:\\users\\nick.pappin\\appdata\\local\\packages\\pythonsoftwarefoundation.python.3.11_qbz5n2kfra8p0\\localcache\\local-packages\\python310\\site-packages (23.3.1)\n",
      "Requirement already satisfied: pandas in c:\\users\\nick.pappin\\projects\\kansascai\\venv\\lib\\site-packages (from -r requirements.txt (line 1)) (2.1.4)\n",
      "Requirement already satisfied: itables in c:\\users\\nick.pappin\\projects\\kansascai\\venv\\lib\\site-packages (from -r requirements.txt (line 2)) (1.6.3)\n",
      "Requirement already satisfied: geopandas in c:\\users\\nick.pappin\\projects\\kansascai\\venv\\lib\\site-packages (from -r requirements.txt (line 3)) (0.14.1)\n",
      "Requirement already satisfied: pyarrow in c:\\users\\nick.pappin\\projects\\kansascai\\venv\\lib\\site-packages (from -r requirements.txt (line 4)) (14.0.1)\n",
      "Requirement already satisfied: requests in c:\\users\\nick.pappin\\projects\\kansascai\\venv\\lib\\site-packages (from -r requirements.txt (line 5)) (2.31.0)\n",
      "Requirement already satisfied: pygris in c:\\users\\nick.pappin\\projects\\kansascai\\venv\\lib\\site-packages (from -r requirements.txt (line 6)) (0.1.6)\n",
      "Requirement already satisfied: matplotlib in c:\\users\\nick.pappin\\projects\\kansascai\\venv\\lib\\site-packages (from -r requirements.txt (line 7)) (3.8.2)\n",
      "Requirement already satisfied: folium in c:\\users\\nick.pappin\\projects\\kansascai\\venv\\lib\\site-packages (from -r requirements.txt (line 8)) (0.15.1)\n",
      "Requirement already satisfied: mapclassify in c:\\users\\nick.pappin\\projects\\kansascai\\venv\\lib\\site-packages (from -r requirements.txt (line 9)) (2.6.1)\n",
      "Requirement already satisfied: contextily in c:\\users\\nick.pappin\\projects\\kansascai\\venv\\lib\\site-packages (from -r requirements.txt (line 10)) (1.4.0)\n",
      "Requirement already satisfied: h3pandas in c:\\users\\nick.pappin\\projects\\kansascai\\venv\\lib\\site-packages (from -r requirements.txt (line 11)) (0.2.6)\n",
      "Requirement already satisfied: numpy<2,>=1.23.2 in c:\\users\\nick.pappin\\projects\\kansascai\\venv\\lib\\site-packages (from pandas->-r requirements.txt (line 1)) (1.26.2)\n",
      "Requirement already satisfied: python-dateutil>=2.8.2 in c:\\users\\nick.pappin\\projects\\kansascai\\venv\\lib\\site-packages (from pandas->-r requirements.txt (line 1)) (2.8.2)\n",
      "Requirement already satisfied: pytz>=2020.1 in c:\\users\\nick.pappin\\projects\\kansascai\\venv\\lib\\site-packages (from pandas->-r requirements.txt (line 1)) (2023.3.post1)\n",
      "Requirement already satisfied: tzdata>=2022.1 in c:\\users\\nick.pappin\\projects\\kansascai\\venv\\lib\\site-packages (from pandas->-r requirements.txt (line 1)) (2023.3)\n",
      "Requirement already satisfied: IPython in c:\\users\\nick.pappin\\projects\\kansascai\\venv\\lib\\site-packages (from itables->-r requirements.txt (line 2)) (8.18.1)\n",
      "Requirement already satisfied: fiona>=1.8.21 in c:\\users\\nick.pappin\\projects\\kansascai\\venv\\lib\\site-packages (from geopandas->-r requirements.txt (line 3)) (1.9.5)\n",
      "Requirement already satisfied: packaging in c:\\users\\nick.pappin\\projects\\kansascai\\venv\\lib\\site-packages (from geopandas->-r requirements.txt (line 3)) (23.2)\n",
      "Requirement already satisfied: pyproj>=3.3.0 in c:\\users\\nick.pappin\\projects\\kansascai\\venv\\lib\\site-packages (from geopandas->-r requirements.txt (line 3)) (3.6.1)\n",
      "Requirement already satisfied: shapely>=1.8.0 in c:\\users\\nick.pappin\\projects\\kansascai\\venv\\lib\\site-packages (from geopandas->-r requirements.txt (line 3)) (2.0.2)\n",
      "Requirement already satisfied: charset-normalizer<4,>=2 in c:\\users\\nick.pappin\\projects\\kansascai\\venv\\lib\\site-packages (from requests->-r requirements.txt (line 5)) (3.3.2)\n",
      "Requirement already satisfied: idna<4,>=2.5 in c:\\users\\nick.pappin\\projects\\kansascai\\venv\\lib\\site-packages (from requests->-r requirements.txt (line 5)) (3.6)\n",
      "Requirement already satisfied: urllib3<3,>=1.21.1 in c:\\users\\nick.pappin\\projects\\kansascai\\venv\\lib\\site-packages (from requests->-r requirements.txt (line 5)) (2.1.0)\n",
      "Requirement already satisfied: certifi>=2017.4.17 in c:\\users\\nick.pappin\\projects\\kansascai\\venv\\lib\\site-packages (from requests->-r requirements.txt (line 5)) (2023.11.17)\n",
      "Requirement already satisfied: appdirs in c:\\users\\nick.pappin\\projects\\kansascai\\venv\\lib\\site-packages (from pygris->-r requirements.txt (line 6)) (1.4.4)\n",
      "Requirement already satisfied: pip in c:\\users\\nick.pappin\\projects\\kansascai\\venv\\lib\\site-packages (from pygris->-r requirements.txt (line 6)) (23.2.1)\n",
      "Requirement already satisfied: rtree in c:\\users\\nick.pappin\\projects\\kansascai\\venv\\lib\\site-packages (from pygris->-r requirements.txt (line 6)) (1.1.0)\n",
      "Requirement already satisfied: contourpy>=1.0.1 in c:\\users\\nick.pappin\\projects\\kansascai\\venv\\lib\\site-packages (from matplotlib->-r requirements.txt (line 7)) (1.2.0)\n",
      "Requirement already satisfied: cycler>=0.10 in c:\\users\\nick.pappin\\projects\\kansascai\\venv\\lib\\site-packages (from matplotlib->-r requirements.txt (line 7)) (0.12.1)\n",
      "Requirement already satisfied: fonttools>=4.22.0 in c:\\users\\nick.pappin\\projects\\kansascai\\venv\\lib\\site-packages (from matplotlib->-r requirements.txt (line 7)) (4.46.0)\n",
      "Requirement already satisfied: kiwisolver>=1.3.1 in c:\\users\\nick.pappin\\projects\\kansascai\\venv\\lib\\site-packages (from matplotlib->-r requirements.txt (line 7)) (1.4.5)\n",
      "Requirement already satisfied: pillow>=8 in c:\\users\\nick.pappin\\projects\\kansascai\\venv\\lib\\site-packages (from matplotlib->-r requirements.txt (line 7)) (10.1.0)\n",
      "Requirement already satisfied: pyparsing>=2.3.1 in c:\\users\\nick.pappin\\projects\\kansascai\\venv\\lib\\site-packages (from matplotlib->-r requirements.txt (line 7)) (3.1.1)\n",
      "Requirement already satisfied: branca>=0.6.0 in c:\\users\\nick.pappin\\projects\\kansascai\\venv\\lib\\site-packages (from folium->-r requirements.txt (line 8)) (0.7.0)\n",
      "Requirement already satisfied: jinja2>=2.9 in c:\\users\\nick.pappin\\projects\\kansascai\\venv\\lib\\site-packages (from folium->-r requirements.txt (line 8)) (3.1.2)\n",
      "Requirement already satisfied: xyzservices in c:\\users\\nick.pappin\\projects\\kansascai\\venv\\lib\\site-packages (from folium->-r requirements.txt (line 8)) (2023.10.1)\n",
      "Requirement already satisfied: networkx>=2.7 in c:\\users\\nick.pappin\\projects\\kansascai\\venv\\lib\\site-packages (from mapclassify->-r requirements.txt (line 9)) (3.2.1)\n",
      "Requirement already satisfied: scikit-learn>=1.0 in c:\\users\\nick.pappin\\projects\\kansascai\\venv\\lib\\site-packages (from mapclassify->-r requirements.txt (line 9)) (1.3.2)\n",
      "Requirement already satisfied: scipy>=1.8 in c:\\users\\nick.pappin\\projects\\kansascai\\venv\\lib\\site-packages (from mapclassify->-r requirements.txt (line 9)) (1.11.4)\n",
      "Requirement already satisfied: geopy in c:\\users\\nick.pappin\\projects\\kansascai\\venv\\lib\\site-packages (from contextily->-r requirements.txt (line 10)) (2.4.1)\n",
      "Requirement already satisfied: mercantile in c:\\users\\nick.pappin\\projects\\kansascai\\venv\\lib\\site-packages (from contextily->-r requirements.txt (line 10)) (1.2.1)\n",
      "Requirement already satisfied: rasterio in c:\\users\\nick.pappin\\projects\\kansascai\\venv\\lib\\site-packages (from contextily->-r requirements.txt (line 10)) (1.3.9)\n",
      "Requirement already satisfied: joblib in c:\\users\\nick.pappin\\projects\\kansascai\\venv\\lib\\site-packages (from contextily->-r requirements.txt (line 10)) (1.3.2)\n",
      "Requirement already satisfied: h3 in c:\\users\\nick.pappin\\projects\\kansascai\\venv\\lib\\site-packages (from h3pandas->-r requirements.txt (line 11)) (3.7.6)\n",
      "Requirement already satisfied: typing-extensions in c:\\users\\nick.pappin\\projects\\kansascai\\venv\\lib\\site-packages (from h3pandas->-r requirements.txt (line 11)) (4.9.0)\n",
      "Requirement already satisfied: attrs>=19.2.0 in c:\\users\\nick.pappin\\projects\\kansascai\\venv\\lib\\site-packages (from fiona>=1.8.21->geopandas->-r requirements.txt (line 3)) (23.1.0)\n",
      "Requirement already satisfied: click~=8.0 in c:\\users\\nick.pappin\\projects\\kansascai\\venv\\lib\\site-packages (from fiona>=1.8.21->geopandas->-r requirements.txt (line 3)) (8.1.7)\n",
      "Requirement already satisfied: click-plugins>=1.0 in c:\\users\\nick.pappin\\projects\\kansascai\\venv\\lib\\site-packages (from fiona>=1.8.21->geopandas->-r requirements.txt (line 3)) (1.1.1)\n",
      "Requirement already satisfied: cligj>=0.5 in c:\\users\\nick.pappin\\projects\\kansascai\\venv\\lib\\site-packages (from fiona>=1.8.21->geopandas->-r requirements.txt (line 3)) (0.7.2)\n",
      "Requirement already satisfied: six in c:\\users\\nick.pappin\\projects\\kansascai\\venv\\lib\\site-packages (from fiona>=1.8.21->geopandas->-r requirements.txt (line 3)) (1.16.0)\n",
      "Requirement already satisfied: setuptools in c:\\users\\nick.pappin\\projects\\kansascai\\venv\\lib\\site-packages (from fiona>=1.8.21->geopandas->-r requirements.txt (line 3)) (65.5.0)\n",
      "Requirement already satisfied: MarkupSafe>=2.0 in c:\\users\\nick.pappin\\projects\\kansascai\\venv\\lib\\site-packages (from jinja2>=2.9->folium->-r requirements.txt (line 8)) (2.1.3)\n",
      "Requirement already satisfied: threadpoolctl>=2.0.0 in c:\\users\\nick.pappin\\projects\\kansascai\\venv\\lib\\site-packages (from scikit-learn>=1.0->mapclassify->-r requirements.txt (line 9)) (3.2.0)\n",
      "Requirement already satisfied: geographiclib<3,>=1.52 in c:\\users\\nick.pappin\\projects\\kansascai\\venv\\lib\\site-packages (from geopy->contextily->-r requirements.txt (line 10)) (2.0)\n",
      "Requirement already satisfied: decorator in c:\\users\\nick.pappin\\projects\\kansascai\\venv\\lib\\site-packages (from IPython->itables->-r requirements.txt (line 2)) (5.1.1)\n",
      "Requirement already satisfied: jedi>=0.16 in c:\\users\\nick.pappin\\projects\\kansascai\\venv\\lib\\site-packages (from IPython->itables->-r requirements.txt (line 2)) (0.19.1)\n",
      "Requirement already satisfied: matplotlib-inline in c:\\users\\nick.pappin\\projects\\kansascai\\venv\\lib\\site-packages (from IPython->itables->-r requirements.txt (line 2)) (0.1.6)\n",
      "Requirement already satisfied: prompt-toolkit<3.1.0,>=3.0.41 in c:\\users\\nick.pappin\\projects\\kansascai\\venv\\lib\\site-packages (from IPython->itables->-r requirements.txt (line 2)) (3.0.43)\n",
      "Requirement already satisfied: pygments>=2.4.0 in c:\\users\\nick.pappin\\projects\\kansascai\\venv\\lib\\site-packages (from IPython->itables->-r requirements.txt (line 2)) (2.17.2)\n",
      "Requirement already satisfied: stack-data in c:\\users\\nick.pappin\\projects\\kansascai\\venv\\lib\\site-packages (from IPython->itables->-r requirements.txt (line 2)) (0.6.3)\n",
      "Requirement already satisfied: traitlets>=5 in c:\\users\\nick.pappin\\projects\\kansascai\\venv\\lib\\site-packages (from IPython->itables->-r requirements.txt (line 2)) (5.14.0)\n",
      "Requirement already satisfied: colorama in c:\\users\\nick.pappin\\projects\\kansascai\\venv\\lib\\site-packages (from IPython->itables->-r requirements.txt (line 2)) (0.4.6)\n",
      "Requirement already satisfied: affine in c:\\users\\nick.pappin\\projects\\kansascai\\venv\\lib\\site-packages (from rasterio->contextily->-r requirements.txt (line 10)) (2.4.0)\n",
      "Requirement already satisfied: snuggs>=1.4.1 in c:\\users\\nick.pappin\\projects\\kansascai\\venv\\lib\\site-packages (from rasterio->contextily->-r requirements.txt (line 10)) (1.4.7)\n",
      "Requirement already satisfied: parso<0.9.0,>=0.8.3 in c:\\users\\nick.pappin\\projects\\kansascai\\venv\\lib\\site-packages (from jedi>=0.16->IPython->itables->-r requirements.txt (line 2)) (0.8.3)\n",
      "Requirement already satisfied: wcwidth in c:\\users\\nick.pappin\\projects\\kansascai\\venv\\lib\\site-packages (from prompt-toolkit<3.1.0,>=3.0.41->IPython->itables->-r requirements.txt (line 2)) (0.2.12)\n",
      "Requirement already satisfied: executing>=1.2.0 in c:\\users\\nick.pappin\\projects\\kansascai\\venv\\lib\\site-packages (from stack-data->IPython->itables->-r requirements.txt (line 2)) (2.0.1)\n",
      "Requirement already satisfied: asttokens>=2.1.0 in c:\\users\\nick.pappin\\projects\\kansascai\\venv\\lib\\site-packages (from stack-data->IPython->itables->-r requirements.txt (line 2)) (2.4.1)\n",
      "Requirement already satisfied: pure-eval in c:\\users\\nick.pappin\\projects\\kansascai\\venv\\lib\\site-packages (from stack-data->IPython->itables->-r requirements.txt (line 2)) (0.2.2)\n",
      "Note: you may need to restart the kernel to use updated packages.\n"
     ]
    },
    {
     "name": "stderr",
     "output_type": "stream",
     "text": [
      "\n",
      "[notice] A new release of pip is available: 23.2.1 -> 23.3.1\n",
      "[notice] To update, run: c:\\Users\\nick.pappin\\projects\\kansasCAI\\venv\\Scripts\\python.exe -m pip install --upgrade pip\n"
     ]
    }
   ],
   "source": [
    "!python.exe -m pip install --upgrade pip\n",
    "%pip install -r requirements.txt"
   ]
  },
  {
   "cell_type": "code",
   "execution_count": null,
   "metadata": {},
   "outputs": [],
   "source": []
  }
 ],
 "metadata": {
  "kernelspec": {
   "display_name": "venv",
   "language": "python",
   "name": "python3"
  },
  "language_info": {
   "codemirror_mode": {
    "name": "ipython",
    "version": 3
   },
   "file_extension": ".py",
   "mimetype": "text/x-python",
   "name": "python",
   "nbconvert_exporter": "python",
   "pygments_lexer": "ipython3",
   "version": "3.11.7"
  }
 },
 "nbformat": 4,
 "nbformat_minor": 2
}
